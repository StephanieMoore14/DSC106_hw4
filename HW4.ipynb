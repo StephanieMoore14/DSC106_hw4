{
 "cells": [
  {
   "cell_type": "code",
   "execution_count": 483,
   "metadata": {},
   "outputs": [],
   "source": [
    "from imdbpie import ImdbFacade\n",
    "from IPython.core.display import display, HTML\n",
    "from bs4 import BeautifulSoup\n",
    "import urllib.request\n",
    "import re\n",
    "import pandas as pd\n",
    "import numpy as np"
   ]
  },
  {
   "cell_type": "markdown",
   "metadata": {},
   "source": [
    "#### Get data for Arnold Schwarzenegger"
   ]
  },
  {
   "cell_type": "code",
   "execution_count": 484,
   "metadata": {
    "scrolled": true
   },
   "outputs": [],
   "source": [
    "# Get an instance of IMDb class\n",
    "imdb = ImdbFacade()\n",
    "\n",
    "# Search for Arnold Schwarzenegger\n",
    "people = imdb.search_for_name('Arnold Schwarzenegger')"
   ]
  },
  {
   "cell_type": "code",
   "execution_count": 485,
   "metadata": {},
   "outputs": [],
   "source": [
    "# Fetch information about him\n",
    "arnold = imdb.get_name(people[0].imdb_id)"
   ]
  },
  {
   "cell_type": "code",
   "execution_count": 486,
   "metadata": {},
   "outputs": [],
   "source": [
    "# Let's fetch some more information about a movie\n",
    "movie = imdb.get_title(arnold.filmography[-1])"
   ]
  },
  {
   "cell_type": "code",
   "execution_count": 56,
   "metadata": {},
   "outputs": [],
   "source": [
    "date = []\n",
    "title = []\n",
    "stars = []\n",
    "genres = []\n",
    "rating = []\n",
    "movies = arnold.filmography\n",
    "\n",
    "for i in range(len(movies)):\n",
    "    m = imdb.get_title(arnold.filmography[i])\n",
    "    date.append(m.release_date)\n",
    "    title.append(m.title)\n",
    "    stars.append(m.stars)\n",
    "    genres.append(m.genres)\n",
    "    rating.append(m.rating)"
   ]
  },
  {
   "cell_type": "code",
   "execution_count": 202,
   "metadata": {},
   "outputs": [],
   "source": [
    "df = pd.DataFrame({'date':date,'title':title,'rating':rating,'genres':genres})\n",
    "df['id'] = movies\n",
    "df.to_csv('arnold_movies.csv')"
   ]
  },
  {
   "cell_type": "code",
   "execution_count": 203,
   "metadata": {},
   "outputs": [
    {
     "data": {
      "text/html": [
       "<div>\n",
       "<style scoped>\n",
       "    .dataframe tbody tr th:only-of-type {\n",
       "        vertical-align: middle;\n",
       "    }\n",
       "\n",
       "    .dataframe tbody tr th {\n",
       "        vertical-align: top;\n",
       "    }\n",
       "\n",
       "    .dataframe thead th {\n",
       "        text-align: right;\n",
       "    }\n",
       "</style>\n",
       "<table border=\"1\" class=\"dataframe\">\n",
       "  <thead>\n",
       "    <tr style=\"text-align: right;\">\n",
       "      <th></th>\n",
       "      <th>date</th>\n",
       "      <th>title</th>\n",
       "      <th>rating</th>\n",
       "      <th>genres</th>\n",
       "      <th>id</th>\n",
       "    </tr>\n",
       "  </thead>\n",
       "  <tbody>\n",
       "    <tr>\n",
       "      <th>0</th>\n",
       "      <td>None</td>\n",
       "      <td>The Original Action Hero</td>\n",
       "      <td>NaN</td>\n",
       "      <td>(documentary,)</td>\n",
       "      <td>tt4598020</td>\n",
       "    </tr>\n",
       "    <tr>\n",
       "      <th>1</th>\n",
       "      <td>None</td>\n",
       "      <td>It's a Fabulous World</td>\n",
       "      <td>NaN</td>\n",
       "      <td>(documentary,)</td>\n",
       "      <td>tt6727522</td>\n",
       "    </tr>\n",
       "    <tr>\n",
       "      <th>2</th>\n",
       "      <td>2007-04-20</td>\n",
       "      <td>The Brotherhood</td>\n",
       "      <td>NaN</td>\n",
       "      <td>(documentary,)</td>\n",
       "      <td>tt1046268</td>\n",
       "    </tr>\n",
       "    <tr>\n",
       "      <th>3</th>\n",
       "      <td>2020-11-24</td>\n",
       "      <td>Stallone: Frank, That Is</td>\n",
       "      <td>NaN</td>\n",
       "      <td>(documentary,)</td>\n",
       "      <td>tt6812404</td>\n",
       "    </tr>\n",
       "    <tr>\n",
       "      <th>4</th>\n",
       "      <td>1981-09-14</td>\n",
       "      <td>Entertainment Tonight</td>\n",
       "      <td>3.6</td>\n",
       "      <td>(news,)</td>\n",
       "      <td>tt0081857</td>\n",
       "    </tr>\n",
       "  </tbody>\n",
       "</table>\n",
       "</div>"
      ],
      "text/plain": [
       "         date                     title  rating          genres         id\n",
       "0        None  The Original Action Hero     NaN  (documentary,)  tt4598020\n",
       "1        None     It's a Fabulous World     NaN  (documentary,)  tt6727522\n",
       "2  2007-04-20           The Brotherhood     NaN  (documentary,)  tt1046268\n",
       "3  2020-11-24  Stallone: Frank, That Is     NaN  (documentary,)  tt6812404\n",
       "4  1981-09-14     Entertainment Tonight     3.6         (news,)  tt0081857"
      ]
     },
     "execution_count": 203,
     "metadata": {},
     "output_type": "execute_result"
    }
   ],
   "source": [
    "df.head()"
   ]
  },
  {
   "cell_type": "code",
   "execution_count": 155,
   "metadata": {},
   "outputs": [],
   "source": [
    "def get_box_office(imdb_id):\n",
    "    # Fetch the box office numbers\n",
    "    base = 'https://www.boxofficemojo.com'\n",
    "    url = base + '/title/' + imdb_id\n",
    "    source = urllib.request.urlopen(url).read()\n",
    "    soup = BeautifulSoup(source,'lxml')\n",
    "    table = soup('th', text=re.compile(r'Release Group'))\n",
    "    if len(table) < 1:\n",
    "        return [np.nan, np.nan]\n",
    "    \n",
    "    else: \n",
    "        group = table.findAll('tr', recursive=False)[1].find('a').get('href')[0].parent.parent\n",
    "        url = base + group\n",
    "\n",
    "        # Get total earnings domestic and international\n",
    "        source = urllib.request.urlopen(url).read()\n",
    "        soup = BeautifulSoup(source,'lxml')\n",
    "        earnings = soup('h2', text=re.compile(r'Rollout'))[0].parent.parent.findAll('div')\n",
    "        domestic = earnings[1].find('span', {'class': 'money'}).get_text()\n",
    "        domestic_url = earnings[1].find('a').get('href')\n",
    "        international = earnings[2].find('span', {'class': 'money'}).get_text()\n",
    "\n",
    "        return [domestic, international]"
   ]
  },
  {
   "cell_type": "code",
   "execution_count": 192,
   "metadata": {},
   "outputs": [],
   "source": [
    "df3 = pd.read_csv('arnold_box_office.csv')\n",
    "df3['id'] = movies"
   ]
  },
  {
   "cell_type": "code",
   "execution_count": 195,
   "metadata": {},
   "outputs": [
    {
     "data": {
      "text/html": [
       "<div>\n",
       "<style scoped>\n",
       "    .dataframe tbody tr th:only-of-type {\n",
       "        vertical-align: middle;\n",
       "    }\n",
       "\n",
       "    .dataframe tbody tr th {\n",
       "        vertical-align: top;\n",
       "    }\n",
       "\n",
       "    .dataframe thead th {\n",
       "        text-align: right;\n",
       "    }\n",
       "</style>\n",
       "<table border=\"1\" class=\"dataframe\">\n",
       "  <thead>\n",
       "    <tr style=\"text-align: right;\">\n",
       "      <th></th>\n",
       "      <th>domestic earnings</th>\n",
       "      <th>international earnings</th>\n",
       "      <th>id</th>\n",
       "    </tr>\n",
       "  </thead>\n",
       "  <tbody>\n",
       "    <tr>\n",
       "      <th>22</th>\n",
       "      <td>$739,711</td>\n",
       "      <td>$158,281</td>\n",
       "      <td>tt7455754</td>\n",
       "    </tr>\n",
       "    <tr>\n",
       "      <th>30</th>\n",
       "      <td>$100,780</td>\n",
       "      <td>$178,635</td>\n",
       "      <td>tt5495792</td>\n",
       "    </tr>\n",
       "    <tr>\n",
       "      <th>89</th>\n",
       "      <td>$849,521</td>\n",
       "      <td>$52,128</td>\n",
       "      <td>tt2205904</td>\n",
       "    </tr>\n",
       "    <tr>\n",
       "      <th>116</th>\n",
       "      <td>$150,886</td>\n",
       "      <td>$386</td>\n",
       "      <td>tt1413496</td>\n",
       "    </tr>\n",
       "    <tr>\n",
       "      <th>155</th>\n",
       "      <td>$109,107</td>\n",
       "      <td>$4,291</td>\n",
       "      <td>tt0988102</td>\n",
       "    </tr>\n",
       "  </tbody>\n",
       "</table>\n",
       "</div>"
      ],
      "text/plain": [
       "    domestic earnings international earnings         id\n",
       "22           $739,711               $158,281  tt7455754\n",
       "30           $100,780               $178,635  tt5495792\n",
       "89           $849,521                $52,128  tt2205904\n",
       "116          $150,886                   $386  tt1413496\n",
       "155          $109,107                 $4,291  tt0988102"
      ]
     },
     "execution_count": 195,
     "metadata": {},
     "output_type": "execute_result"
    }
   ],
   "source": [
    "# found all movies that had values for domestic and international earnings\n",
    "notnull = df3[((df3['domestic earnings'].notna()) & (df3['international earnings'].notna()))]\n",
    "notnull = notnull.drop(columns='Unnamed: 0')\n",
    "notnull.head()"
   ]
  },
  {
   "cell_type": "code",
   "execution_count": 196,
   "metadata": {},
   "outputs": [],
   "source": [
    "# clean dollar catagory\n",
    "def clean_earn(str_earn):\n",
    "    str_earn = str_earn.replace('$', '').replace(',', '')\n",
    "    return int(str_earn)"
   ]
  },
  {
   "cell_type": "code",
   "execution_count": 197,
   "metadata": {},
   "outputs": [],
   "source": [
    "notnull['domestic earnings'] = notnull['domestic earnings'].apply(lambda x: clean_earn(x))\n",
    "notnull['international earnings'] = notnull['international earnings'].apply(lambda x: clean_earn(x))\n",
    "notnull['total earnings'] = notnull['domestic earnings'] + notnull['international earnings']"
   ]
  },
  {
   "cell_type": "code",
   "execution_count": 198,
   "metadata": {},
   "outputs": [
    {
     "data": {
      "text/html": [
       "<div>\n",
       "<style scoped>\n",
       "    .dataframe tbody tr th:only-of-type {\n",
       "        vertical-align: middle;\n",
       "    }\n",
       "\n",
       "    .dataframe tbody tr th {\n",
       "        vertical-align: top;\n",
       "    }\n",
       "\n",
       "    .dataframe thead th {\n",
       "        text-align: right;\n",
       "    }\n",
       "</style>\n",
       "<table border=\"1\" class=\"dataframe\">\n",
       "  <thead>\n",
       "    <tr style=\"text-align: right;\">\n",
       "      <th></th>\n",
       "      <th>domestic earnings</th>\n",
       "      <th>international earnings</th>\n",
       "      <th>id</th>\n",
       "      <th>total earnings</th>\n",
       "    </tr>\n",
       "  </thead>\n",
       "  <tbody>\n",
       "    <tr>\n",
       "      <th>22</th>\n",
       "      <td>739711</td>\n",
       "      <td>158281</td>\n",
       "      <td>tt7455754</td>\n",
       "      <td>897992</td>\n",
       "    </tr>\n",
       "    <tr>\n",
       "      <th>30</th>\n",
       "      <td>100780</td>\n",
       "      <td>178635</td>\n",
       "      <td>tt5495792</td>\n",
       "      <td>279415</td>\n",
       "    </tr>\n",
       "    <tr>\n",
       "      <th>89</th>\n",
       "      <td>849521</td>\n",
       "      <td>52128</td>\n",
       "      <td>tt2205904</td>\n",
       "      <td>901649</td>\n",
       "    </tr>\n",
       "    <tr>\n",
       "      <th>116</th>\n",
       "      <td>150886</td>\n",
       "      <td>386</td>\n",
       "      <td>tt1413496</td>\n",
       "      <td>151272</td>\n",
       "    </tr>\n",
       "    <tr>\n",
       "      <th>155</th>\n",
       "      <td>109107</td>\n",
       "      <td>4291</td>\n",
       "      <td>tt0988102</td>\n",
       "      <td>113398</td>\n",
       "    </tr>\n",
       "  </tbody>\n",
       "</table>\n",
       "</div>"
      ],
      "text/plain": [
       "     domestic earnings  international earnings         id  total earnings\n",
       "22              739711                  158281  tt7455754          897992\n",
       "30              100780                  178635  tt5495792          279415\n",
       "89              849521                   52128  tt2205904          901649\n",
       "116             150886                     386  tt1413496          151272\n",
       "155             109107                    4291  tt0988102          113398"
      ]
     },
     "execution_count": 198,
     "metadata": {},
     "output_type": "execute_result"
    }
   ],
   "source": [
    "notnull.head()"
   ]
  },
  {
   "cell_type": "code",
   "execution_count": 199,
   "metadata": {},
   "outputs": [],
   "source": [
    "notnull.to_csv('arnold_box_office.csv')"
   ]
  },
  {
   "cell_type": "code",
   "execution_count": 215,
   "metadata": {},
   "outputs": [],
   "source": [
    "# join the tables:\n",
    "df1 = pd.read_csv('arnold_movies.csv')\n",
    "df2 = pd.read_csv('arnold_box_office.csv')"
   ]
  },
  {
   "cell_type": "code",
   "execution_count": 232,
   "metadata": {},
   "outputs": [],
   "source": [
    "df = df1.merge(df2, on='Unnamed: 0').drop(columns='id_y')\n",
    "df = df.rename(columns={'id_x':'id', 'Unnamed: 0': 'Origional Idx'})"
   ]
  },
  {
   "cell_type": "code",
   "execution_count": 233,
   "metadata": {},
   "outputs": [],
   "source": [
    "df['date'] = df['date'].apply(lambda x: pd.to_datetime(x))"
   ]
  },
  {
   "cell_type": "code",
   "execution_count": 235,
   "metadata": {},
   "outputs": [],
   "source": [
    "df.to_csv('arnold_all.csv')"
   ]
  },
  {
   "cell_type": "code",
   "execution_count": 453,
   "metadata": {},
   "outputs": [
    {
     "data": {
      "text/html": [
       "<div>\n",
       "<style scoped>\n",
       "    .dataframe tbody tr th:only-of-type {\n",
       "        vertical-align: middle;\n",
       "    }\n",
       "\n",
       "    .dataframe tbody tr th {\n",
       "        vertical-align: top;\n",
       "    }\n",
       "\n",
       "    .dataframe thead th {\n",
       "        text-align: right;\n",
       "    }\n",
       "</style>\n",
       "<table border=\"1\" class=\"dataframe\">\n",
       "  <thead>\n",
       "    <tr style=\"text-align: right;\">\n",
       "      <th></th>\n",
       "      <th>Origional Idx</th>\n",
       "      <th>date</th>\n",
       "      <th>title</th>\n",
       "      <th>rating</th>\n",
       "      <th>genres</th>\n",
       "      <th>id</th>\n",
       "      <th>domestic earnings</th>\n",
       "      <th>international earnings</th>\n",
       "      <th>total earnings</th>\n",
       "    </tr>\n",
       "  </thead>\n",
       "  <tbody>\n",
       "    <tr>\n",
       "      <th>0</th>\n",
       "      <td>22</td>\n",
       "      <td>2018-01-19</td>\n",
       "      <td>The Game Changers</td>\n",
       "      <td>8.2</td>\n",
       "      <td>('documentary',)</td>\n",
       "      <td>tt7455754</td>\n",
       "      <td>739711</td>\n",
       "      <td>158281</td>\n",
       "      <td>897992</td>\n",
       "    </tr>\n",
       "    <tr>\n",
       "      <th>1</th>\n",
       "      <td>30</td>\n",
       "      <td>2017-05-20</td>\n",
       "      <td>Wonders of the Sea 3D</td>\n",
       "      <td>6.4</td>\n",
       "      <td>('documentary',)</td>\n",
       "      <td>tt5495792</td>\n",
       "      <td>100780</td>\n",
       "      <td>178635</td>\n",
       "      <td>279415</td>\n",
       "    </tr>\n",
       "    <tr>\n",
       "      <th>2</th>\n",
       "      <td>89</td>\n",
       "      <td>2013-09-20</td>\n",
       "      <td>Generation Iron</td>\n",
       "      <td>7.1</td>\n",
       "      <td>('documentary', 'drama', 'sport')</td>\n",
       "      <td>tt2205904</td>\n",
       "      <td>849521</td>\n",
       "      <td>52128</td>\n",
       "      <td>901649</td>\n",
       "    </tr>\n",
       "    <tr>\n",
       "      <th>3</th>\n",
       "      <td>116</td>\n",
       "      <td>2011-04-22</td>\n",
       "      <td>Revenge of the Electric Car</td>\n",
       "      <td>7.2</td>\n",
       "      <td>('documentary',)</td>\n",
       "      <td>tt1413496</td>\n",
       "      <td>150886</td>\n",
       "      <td>386</td>\n",
       "      <td>151272</td>\n",
       "    </tr>\n",
       "    <tr>\n",
       "      <th>4</th>\n",
       "      <td>155</td>\n",
       "      <td>2007-09-09</td>\n",
       "      <td>Darfur Now</td>\n",
       "      <td>6.8</td>\n",
       "      <td>('documentary',)</td>\n",
       "      <td>tt0988102</td>\n",
       "      <td>109107</td>\n",
       "      <td>4291</td>\n",
       "      <td>113398</td>\n",
       "    </tr>\n",
       "  </tbody>\n",
       "</table>\n",
       "</div>"
      ],
      "text/plain": [
       "   Origional Idx        date                        title  rating  \\\n",
       "0             22  2018-01-19            The Game Changers     8.2   \n",
       "1             30  2017-05-20        Wonders of the Sea 3D     6.4   \n",
       "2             89  2013-09-20              Generation Iron     7.1   \n",
       "3            116  2011-04-22  Revenge of the Electric Car     7.2   \n",
       "4            155  2007-09-09                   Darfur Now     6.8   \n",
       "\n",
       "                              genres         id  domestic earnings  \\\n",
       "0                   ('documentary',)  tt7455754             739711   \n",
       "1                   ('documentary',)  tt5495792             100780   \n",
       "2  ('documentary', 'drama', 'sport')  tt2205904             849521   \n",
       "3                   ('documentary',)  tt1413496             150886   \n",
       "4                   ('documentary',)  tt0988102             109107   \n",
       "\n",
       "   international earnings  total earnings  \n",
       "0                  158281          897992  \n",
       "1                  178635          279415  \n",
       "2                   52128          901649  \n",
       "3                     386          151272  \n",
       "4                    4291          113398  "
      ]
     },
     "execution_count": 453,
     "metadata": {},
     "output_type": "execute_result"
    }
   ],
   "source": [
    "temp = pd.read_csv('arnold_all.csv').drop(columns=['Unnamed: 0'])\n",
    "temp['date'] = pd.to_datetime(temp['date'])\n",
    "temp['decade'] = temp['date'].apply(lambda x: ((x.year//10)*10))"
   ]
  },
  {
   "cell_type": "code",
   "execution_count": 378,
   "metadata": {},
   "outputs": [
    {
     "data": {
      "text/html": [
       "<div>\n",
       "<style scoped>\n",
       "    .dataframe tbody tr th:only-of-type {\n",
       "        vertical-align: middle;\n",
       "    }\n",
       "\n",
       "    .dataframe tbody tr th {\n",
       "        vertical-align: top;\n",
       "    }\n",
       "\n",
       "    .dataframe thead th {\n",
       "        text-align: right;\n",
       "    }\n",
       "</style>\n",
       "<table border=\"1\" class=\"dataframe\">\n",
       "  <thead>\n",
       "    <tr style=\"text-align: right;\">\n",
       "      <th></th>\n",
       "      <th>rating</th>\n",
       "      <th>domestic earnings</th>\n",
       "      <th>international earnings</th>\n",
       "      <th>total earnings</th>\n",
       "      <th>Counts</th>\n",
       "    </tr>\n",
       "    <tr>\n",
       "      <th>decade</th>\n",
       "      <th></th>\n",
       "      <th></th>\n",
       "      <th></th>\n",
       "      <th></th>\n",
       "      <th></th>\n",
       "    </tr>\n",
       "  </thead>\n",
       "  <tbody>\n",
       "    <tr>\n",
       "      <th>1980</th>\n",
       "      <td>7.100000</td>\n",
       "      <td>284710611</td>\n",
       "      <td>234885010</td>\n",
       "      <td>519595621</td>\n",
       "      <td>5</td>\n",
       "    </tr>\n",
       "    <tr>\n",
       "      <th>1990</th>\n",
       "      <td>6.172727</td>\n",
       "      <td>1034876616</td>\n",
       "      <td>1529565815</td>\n",
       "      <td>2564442431</td>\n",
       "      <td>11</td>\n",
       "    </tr>\n",
       "    <tr>\n",
       "      <th>2000</th>\n",
       "      <td>6.269231</td>\n",
       "      <td>466720467</td>\n",
       "      <td>594297714</td>\n",
       "      <td>1061018181</td>\n",
       "      <td>13</td>\n",
       "    </tr>\n",
       "    <tr>\n",
       "      <th>2010</th>\n",
       "      <td>6.664706</td>\n",
       "      <td>434585827</td>\n",
       "      <td>1277161646</td>\n",
       "      <td>1711747473</td>\n",
       "      <td>17</td>\n",
       "    </tr>\n",
       "  </tbody>\n",
       "</table>\n",
       "</div>"
      ],
      "text/plain": [
       "          rating  domestic earnings  international earnings  total earnings  \\\n",
       "decade                                                                        \n",
       "1980    7.100000          284710611               234885010       519595621   \n",
       "1990    6.172727         1034876616              1529565815      2564442431   \n",
       "2000    6.269231          466720467               594297714      1061018181   \n",
       "2010    6.664706          434585827              1277161646      1711747473   \n",
       "\n",
       "        Counts  \n",
       "decade          \n",
       "1980         5  \n",
       "1990        11  \n",
       "2000        13  \n",
       "2010        17  "
      ]
     },
     "execution_count": 378,
     "metadata": {},
     "output_type": "execute_result"
    }
   ],
   "source": [
    "# information for pie charts\n",
    "new = temp.groupby('decade').agg({'rating':np.mean,'domestic earnings':np.sum,\n",
    "                            'international earnings':np.sum,'total earnings':np.sum, 'Origional Idx': 'count'})\n",
    "new = new.rename(columns={'Origional Idx': 'Counts'})\n",
    "new"
   ]
  },
  {
   "cell_type": "code",
   "execution_count": 460,
   "metadata": {},
   "outputs": [],
   "source": [
    "# add titles\n",
    "def clean_genre(g):\n",
    "    pattern = r'[A-Za-z-]+'\n",
    "    result = re.findall(pattern, g)\n",
    "    return result\n",
    "temp['genres'] = temp['genres'].apply(lambda x: clean_genre(x))"
   ]
  },
  {
   "cell_type": "code",
   "execution_count": 471,
   "metadata": {},
   "outputs": [],
   "source": [
    "row_lst = {'genre':[], 'decade':[], 'total earnings':[]}\n",
    "for i in range(temp.shape[0]):\n",
    "    #print(temp.loc[i])\n",
    "    row = temp.loc[i]\n",
    "    genres = row.genres\n",
    "    for i in range(len(genres)):\n",
    "        curr = genres[i]\n",
    "        if len(curr) < 1: pass\n",
    "        else:\n",
    "            row_lst['genre'] = row_lst['genre'] + [curr]\n",
    "            row_lst['decade'] =  row_lst['decade'] + [row.decade]\n",
    "            row_lst['total earnings'] =  row_lst['total earnings'] + [row['total earnings']]            "
   ]
  },
  {
   "cell_type": "code",
   "execution_count": 482,
   "metadata": {},
   "outputs": [
    {
     "data": {
      "text/html": [
       "<div>\n",
       "<style scoped>\n",
       "    .dataframe tbody tr th:only-of-type {\n",
       "        vertical-align: middle;\n",
       "    }\n",
       "\n",
       "    .dataframe tbody tr th {\n",
       "        vertical-align: top;\n",
       "    }\n",
       "\n",
       "    .dataframe thead th {\n",
       "        text-align: right;\n",
       "    }\n",
       "</style>\n",
       "<table border=\"1\" class=\"dataframe\">\n",
       "  <thead>\n",
       "    <tr style=\"text-align: right;\">\n",
       "      <th></th>\n",
       "      <th></th>\n",
       "      <th>total earnings</th>\n",
       "    </tr>\n",
       "    <tr>\n",
       "      <th>genre</th>\n",
       "      <th>decade</th>\n",
       "      <th></th>\n",
       "    </tr>\n",
       "  </thead>\n",
       "  <tbody>\n",
       "    <tr>\n",
       "      <th rowspan=\"4\" valign=\"top\">action</th>\n",
       "      <th>1980</th>\n",
       "      <td>302981233</td>\n",
       "    </tr>\n",
       "    <tr>\n",
       "      <th>1990</th>\n",
       "      <td>2124220999</td>\n",
       "    </tr>\n",
       "    <tr>\n",
       "      <th>2000</th>\n",
       "      <td>859760255</td>\n",
       "    </tr>\n",
       "    <tr>\n",
       "      <th>2010</th>\n",
       "      <td>1697206336</td>\n",
       "    </tr>\n",
       "    <tr>\n",
       "      <th rowspan=\"4\" valign=\"top\">adventure</th>\n",
       "      <th>1980</th>\n",
       "      <td>224610033</td>\n",
       "    </tr>\n",
       "    <tr>\n",
       "      <th>1990</th>\n",
       "      <td>274596978</td>\n",
       "    </tr>\n",
       "    <tr>\n",
       "      <th>2000</th>\n",
       "      <td>152836816</td>\n",
       "    </tr>\n",
       "    <tr>\n",
       "      <th>2010</th>\n",
       "      <td>1494038760</td>\n",
       "    </tr>\n",
       "    <tr>\n",
       "      <th>biography</th>\n",
       "      <th>2000</th>\n",
       "      <td>4854164</td>\n",
       "    </tr>\n",
       "    <tr>\n",
       "      <th rowspan=\"3\" valign=\"top\">comedy</th>\n",
       "      <th>1980</th>\n",
       "      <td>216614388</td>\n",
       "    </tr>\n",
       "    <tr>\n",
       "      <th>1990</th>\n",
       "      <td>1093700821</td>\n",
       "    </tr>\n",
       "    <tr>\n",
       "      <th>2000</th>\n",
       "      <td>331940100</td>\n",
       "    </tr>\n",
       "    <tr>\n",
       "      <th rowspan=\"4\" valign=\"top\">crime</th>\n",
       "      <th>1980</th>\n",
       "      <td>216614388</td>\n",
       "    </tr>\n",
       "    <tr>\n",
       "      <th>1990</th>\n",
       "      <td>201957688</td>\n",
       "    </tr>\n",
       "    <tr>\n",
       "      <th>2000</th>\n",
       "      <td>17436509</td>\n",
       "    </tr>\n",
       "    <tr>\n",
       "      <th>2010</th>\n",
       "      <td>17508518</td>\n",
       "    </tr>\n",
       "    <tr>\n",
       "      <th rowspan=\"2\" valign=\"top\">documentary</th>\n",
       "      <th>2000</th>\n",
       "      <td>25153582</td>\n",
       "    </tr>\n",
       "    <tr>\n",
       "      <th>2010</th>\n",
       "      <td>11753033</td>\n",
       "    </tr>\n",
       "    <tr>\n",
       "      <th rowspan=\"3\" valign=\"top\">drama</th>\n",
       "      <th>1990</th>\n",
       "      <td>242295562</td>\n",
       "    </tr>\n",
       "    <tr>\n",
       "      <th>2000</th>\n",
       "      <td>78382433</td>\n",
       "    </tr>\n",
       "    <tr>\n",
       "      <th>2010</th>\n",
       "      <td>21198271</td>\n",
       "    </tr>\n",
       "    <tr>\n",
       "      <th rowspan=\"2\" valign=\"top\">family</th>\n",
       "      <th>1990</th>\n",
       "      <td>129832389</td>\n",
       "    </tr>\n",
       "    <tr>\n",
       "      <th>2000</th>\n",
       "      <td>248283239</td>\n",
       "    </tr>\n",
       "    <tr>\n",
       "      <th rowspan=\"3\" valign=\"top\">fantasy</th>\n",
       "      <th>1980</th>\n",
       "      <td>68851475</td>\n",
       "    </tr>\n",
       "    <tr>\n",
       "      <th>1990</th>\n",
       "      <td>486586021</td>\n",
       "    </tr>\n",
       "    <tr>\n",
       "      <th>2000</th>\n",
       "      <td>176104344</td>\n",
       "    </tr>\n",
       "    <tr>\n",
       "      <th>history</th>\n",
       "      <th>2000</th>\n",
       "      <td>4854164</td>\n",
       "    </tr>\n",
       "    <tr>\n",
       "      <th rowspan=\"2\" valign=\"top\">horror</th>\n",
       "      <th>1990</th>\n",
       "      <td>211989043</td>\n",
       "    </tr>\n",
       "    <tr>\n",
       "      <th>2010</th>\n",
       "      <td>2788104</td>\n",
       "    </tr>\n",
       "    <tr>\n",
       "      <th>mystery</th>\n",
       "      <th>2000</th>\n",
       "      <td>192170954</td>\n",
       "    </tr>\n",
       "    <tr>\n",
       "      <th>news</th>\n",
       "      <th>2000</th>\n",
       "      <td>17436509</td>\n",
       "    </tr>\n",
       "    <tr>\n",
       "      <th rowspan=\"2\" valign=\"top\">romance</th>\n",
       "      <th>1990</th>\n",
       "      <td>108431355</td>\n",
       "    </tr>\n",
       "    <tr>\n",
       "      <th>2000</th>\n",
       "      <td>2998940</td>\n",
       "    </tr>\n",
       "    <tr>\n",
       "      <th rowspan=\"4\" valign=\"top\">sci-fi</th>\n",
       "      <th>1980</th>\n",
       "      <td>176638758</td>\n",
       "    </tr>\n",
       "    <tr>\n",
       "      <th>1990</th>\n",
       "      <td>1124888360</td>\n",
       "    </tr>\n",
       "    <tr>\n",
       "      <th>2000</th>\n",
       "      <td>625542066</td>\n",
       "    </tr>\n",
       "    <tr>\n",
       "      <th>2010</th>\n",
       "      <td>689934834</td>\n",
       "    </tr>\n",
       "    <tr>\n",
       "      <th>sport</th>\n",
       "      <th>2010</th>\n",
       "      <td>901649</td>\n",
       "    </tr>\n",
       "    <tr>\n",
       "      <th rowspan=\"4\" valign=\"top\">thriller</th>\n",
       "      <th>1980</th>\n",
       "      <td>155758558</td>\n",
       "    </tr>\n",
       "    <tr>\n",
       "      <th>1990</th>\n",
       "      <td>1094466856</td>\n",
       "    </tr>\n",
       "    <tr>\n",
       "      <th>2000</th>\n",
       "      <td>351211308</td>\n",
       "    </tr>\n",
       "    <tr>\n",
       "      <th>2010</th>\n",
       "      <td>1007271502</td>\n",
       "    </tr>\n",
       "    <tr>\n",
       "      <th rowspan=\"2\" valign=\"top\">western</th>\n",
       "      <th>2000</th>\n",
       "      <td>72178895</td>\n",
       "    </tr>\n",
       "    <tr>\n",
       "      <th>2010</th>\n",
       "      <td>65839275</td>\n",
       "    </tr>\n",
       "  </tbody>\n",
       "</table>\n",
       "</div>"
      ],
      "text/plain": [
       "                    total earnings\n",
       "genre       decade                \n",
       "action      1980         302981233\n",
       "            1990        2124220999\n",
       "            2000         859760255\n",
       "            2010        1697206336\n",
       "adventure   1980         224610033\n",
       "            1990         274596978\n",
       "            2000         152836816\n",
       "            2010        1494038760\n",
       "biography   2000           4854164\n",
       "comedy      1980         216614388\n",
       "            1990        1093700821\n",
       "            2000         331940100\n",
       "crime       1980         216614388\n",
       "            1990         201957688\n",
       "            2000          17436509\n",
       "            2010          17508518\n",
       "documentary 2000          25153582\n",
       "            2010          11753033\n",
       "drama       1990         242295562\n",
       "            2000          78382433\n",
       "            2010          21198271\n",
       "family      1990         129832389\n",
       "            2000         248283239\n",
       "fantasy     1980          68851475\n",
       "            1990         486586021\n",
       "            2000         176104344\n",
       "history     2000           4854164\n",
       "horror      1990         211989043\n",
       "            2010           2788104\n",
       "mystery     2000         192170954\n",
       "news        2000          17436509\n",
       "romance     1990         108431355\n",
       "            2000           2998940\n",
       "sci-fi      1980         176638758\n",
       "            1990        1124888360\n",
       "            2000         625542066\n",
       "            2010         689934834\n",
       "sport       2010            901649\n",
       "thriller    1980         155758558\n",
       "            1990        1094466856\n",
       "            2000         351211308\n",
       "            2010        1007271502\n",
       "western     2000          72178895\n",
       "            2010          65839275"
      ]
     },
     "execution_count": 482,
     "metadata": {},
     "output_type": "execute_result"
    }
   ],
   "source": [
    "# info for tree map\n",
    "from scipy import stats\n",
    "data = pd.DataFrame(row_lst)\n",
    "data.groupby(['genre', 'decade']).agg({'total earnings': np.sum})"
   ]
  },
  {
   "cell_type": "code",
   "execution_count": null,
   "metadata": {},
   "outputs": [],
   "source": [
    "# breakdowns for the Pie Chart"
   ]
  },
  {
   "cell_type": "code",
   "execution_count": 442,
   "metadata": {},
   "outputs": [
    {
     "data": {
      "text/plain": [
       "action       4\n",
       "adventure    3\n",
       "thriller     2\n",
       "sci-fi       2\n",
       "crime        1\n",
       "comedy       1\n",
       "fantasy      1\n",
       "dtype: int64"
      ]
     },
     "execution_count": 442,
     "metadata": {},
     "output_type": "execute_result"
    }
   ],
   "source": [
    "eightys = temp[temp['decade'] == 1980]\n",
    "\n",
    "import itertools\n",
    "list2d = list(eightys['genres'].values)\n",
    "merged = list(itertools.chain(*list2d))\n",
    "pd.Series(merged).value_counts()"
   ]
  },
  {
   "cell_type": "code",
   "execution_count": 447,
   "metadata": {},
   "outputs": [
    {
     "data": {
      "text/plain": [
       "action       8\n",
       "comedy       6\n",
       "sci-fi       4\n",
       "thriller     4\n",
       "fantasy      3\n",
       "adventure    2\n",
       "romance      1\n",
       "drama        1\n",
       "horror       1\n",
       "family       1\n",
       "crime        1\n",
       "dtype: int64"
      ]
     },
     "execution_count": 447,
     "metadata": {},
     "output_type": "execute_result"
    }
   ],
   "source": [
    "ninghtys = temp[temp['decade'] == 1990]\n",
    "list2d = list(ninghtys['genres'].values)\n",
    "merged = list(itertools.chain(*list2d))\n",
    "pd.Series(merged).value_counts()"
   ]
  },
  {
   "cell_type": "code",
   "execution_count": 449,
   "metadata": {},
   "outputs": [
    {
     "data": {
      "text/plain": [
       "action         7\n",
       "documentary    5\n",
       "comedy         4\n",
       "thriller       4\n",
       "sci-fi         3\n",
       "adventure      2\n",
       "family         2\n",
       "mystery        2\n",
       "news           1\n",
       "crime          1\n",
       "biography      1\n",
       "history        1\n",
       "fantasy        1\n",
       "romance        1\n",
       "western        1\n",
       "drama          1\n",
       "dtype: int64"
      ]
     },
     "execution_count": 449,
     "metadata": {},
     "output_type": "execute_result"
    }
   ],
   "source": [
    "thou = temp[temp['decade'] == 2000]\n",
    "list2d = list(thou['genres'].values)\n",
    "merged = list(itertools.chain(*list2d))\n",
    "pd.Series(merged).value_counts()"
   ]
  },
  {
   "cell_type": "code",
   "execution_count": 451,
   "metadata": {},
   "outputs": [
    {
     "data": {
      "text/plain": [
       "action         8\n",
       "documentary    7\n",
       "thriller       6\n",
       "adventure      5\n",
       "drama          4\n",
       "horror         2\n",
       "sci-fi         2\n",
       "western        2\n",
       "crime          1\n",
       "sport          1\n",
       "dtype: int64"
      ]
     },
     "execution_count": 451,
     "metadata": {},
     "output_type": "execute_result"
    }
   ],
   "source": [
    "tens = temp[temp['decade'] == 2010]\n",
    "list2d = list(tens['genres'].values)\n",
    "merged = list(itertools.chain(*list2d))\n",
    "pd.Series(merged).value_counts()"
   ]
  },
  {
   "cell_type": "markdown",
   "metadata": {},
   "source": [
    "# Timeline"
   ]
  },
  {
   "cell_type": "code",
   "execution_count": 488,
   "metadata": {},
   "outputs": [
    {
     "data": {
      "image/svg+xml": [
       "<svg height=\"720\" overflow=\"hidden\" width=\"1280\" xmlns=\"http://www.w3.org/2000/svg\" xmlns:xlink=\"http://www.w3.org/1999/xlink\"><defs><clipPath id=\"clip0\"><path clip-rule=\"evenodd\" d=\"M0 0 1280 0 1280 720 0 720Z\" fill-rule=\"evenodd\"/></clipPath><image height=\"188\" id=\"img1\" preserveAspectRatio=\"none\" width=\"237\" xlink:href=\"data:image/jpeg;base64,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\"/><clipPath id=\"clip2\"><path clip-rule=\"evenodd\" d=\"M0 0 157.58 0 157.58 125 0 125Z\" fill-rule=\"evenodd\"/></clipPath><image height=\"374\" id=\"img3\" preserveAspectRatio=\"none\" width=\"404\" xlink:href=\"data:image/jpeg;base64,/9j/4AAQSkZJRgABAQEAYABgAAD/2wBDAAMCAgMCAgMDAwMEAwMEBQgFBQQEBQoHBwYIDAoMDAsKCwsNDhIQDQ4RDgsLEBYQERMUFRUVDA8XGBYUGBIUFRT/2wBDAQMEBAUEBQkFBQkUDQsNFBQUFBQUFBQUFBQUFBQUFBQUFBQUFBQUFBQUFBQUFBQUFBQUFBQUFBQUFBQUFBQUFBT/wAARCAF2AZQDASIAAhEBAxEB/8QAHwAAAQUBAQEBAQEAAAAAAAAAAAECAwQFBgcICQoL/8QAtRAAAgEDAwIEAwUFBAQAAAF9AQIDAAQRBRIhMUEGE1FhByJxFDKBkaEII0KxwRVS0fAkM2JyggkKFhcYGRolJicoKSo0NTY3ODk6Q0RFRkdISUpTVFVWV1hZWmNkZWZnaGlqc3R1dnd4eXqDhIWGh4iJipKTlJWWl5iZmqKjpKWmp6ipqrKztLW2t7i5usLDxMXGx8jJytLT1NXW19jZ2uHi4+Tl5ufo6erx8vP09fb3+Pn6/8QAHwEAAwEBAQEBAQEBAQAAAAAAAAECAwQFBgcICQoL/8QAtREAAgECBAQDBAcFBAQAAQJ3AAECAxEEBSExBhJBUQdhcRMiMoEIFEKRobHBCSMzUvAVYnLRChYkNOEl8RcYGRomJygpKjU2Nzg5OkNERUZHSElKU1RVVldYWVpjZGVmZ2hpanN0dXZ3eHl6goOEhYaHiImKkpOUlZaXmJmaoqOkpaanqKmqsrO0tba3uLm6wsPExcbHyMnK0tPU1dbX2Nna4uPk5ebn6Onq8vP09fb3+Pn6/9oADAMBAAIRAxEAPwD9U6KKKACiiigAooooAKKKKACiiigAooooAKKKKACiiigAoqtqGpWmk2r3N7cxWlunLSTOFUfia8r8VftH6HpLPDpEEmsTjjzP9XDn6nk/gPxrqoYWtiXalFv+u5xYnG4fBq9eaX5/dueu1nat4i0vQY9+o6hbWK9jcSqmfzNfK3iL44eLfEG9BqH9nQNx5ViPL/8AHvvfrXC3FxLdzNLPK80rHLSSMWY/UmvpKPD9SWtadvTU+TxHFNOOmHpt+b0/r8D6r1j9oLwfpe5YrubUZFONtrCcf99NgVyN/wDtSQKxFloEki9muLgKfyCn+dfP1FexTyPBw+JOXq/8rHz9XiPH1Phaj6L/ADuex3n7TmvyMfs2m6fAvYOHc/8AoQqjJ+0l4tbpHpyf7sDf1avKqK7VluDjtTRwSzjHy3rM941j42+JNPv/ACozaFPKifDQ92jVj39Saih/aB8QoR5lrYyD2jZf/Zq4XxL/AMhT/t3t/wD0SlZdfk1WTVSSXdn2n1uun8bPZbP9oyYEC60VGHdoZyP0I/rXR6b8fPD12wFzFd2J/vPGHX/x0k/pXzvRWftJG0cwxEd3c+t9I8caDru0WWq20rt0jLhX/wC+Tg1tg55HIr4trodD+IHiDw6y/Y9TmEY/5YyHen0wen4Vaqdzup5r/wA/I/cfWVFeL+HP2hFYpFrdht7G4tOR9Sp/oa9T0HxTpXiaDzdNvYrod1U4Zfqp5FaqSex61LE0q3wSNWiiiqOoKKKKACiiigAooooAKKKKACiiigAooooAKKKKACiiigAooooAKKKKACiiigAooooAKKKKACiiigAooooAKKK5jxz8QtI8A6f5+oTbp3H7m1jIMkh9h2HueK0p051ZKEFdsyq1YUYOpUdkup0c88drC8s0ixRINzO5wAPUmvG/Hn7RljpTSWnh2JdRuRwbqTPkqfbu36D3ryHx78VNa8ezstzKbbTwcpZQnCD/AHj/ABH61xtfaYLI4wtPE6vt0+fc/Pcw4knUvTwei79fl2/P0NfxJ4u1fxdd/aNVvpbts5VWOET/AHVHArIoor6uMYwXLFWR8TOcqknKbu33CiiiqICiiigAooooA7nxL/yFP+3e3/8ARKVl1qeJf+Qp/wBu9v8A+iUrLr8SrfxJerP0F7hRRRWQgooooAKms7240+4Se1mkt5l5WSNirD8RUNFAbHrXg/483lkUt9ei+2QdPtUQAkX6jo36fjXtOi69YeIrNbrTrqO6hbuh5B9COxr48rS0HxFqPhm+W7065e3lHXb91h6EdxWkajW56+HzGpT92pqvxPsGivPPh/8AF6w8V7LO+2WGp9ApPySn/ZPr7H9a9DroTT2PpKdWFaPNB3QUUVka9rF7pr20VhpjahLNuJZpPKiiVRnLPtOCegGOaG7as0btqa9FcLJ8TlePSDBa2sTX9s1x/wATC/FuqYYLtDbG3EnOPYV0PiDX5dEs7JltBc3t3OltFAJdqb2BPL44AAPOO3Si/wDl+hkqsHdp7a/hf8jZoriV+Ilxc+XbWuj+dqam4FxbPc7Ui8kgNh9p3Z3Ljgde1Mj+Klo15aq1t5dpNAs/mNL+9+aNn4jx8wBXaTn7xAxS5la4e2p7X/rT/NHc0UyGQzQxyFGiLKGKPjcuR0OO9PqjbcKKKKACiiigAooooAKKKKACiiigAooooAKKKKACiiigAooooAKKK8m+NHxgXwjC+j6RKrazIv7yReRbKf8A2Y9vTr6V04fD1MVUVKmtWceKxVLB0nWrOyX4+SLnxW+M1r4HjewsNl5rTL9zOUg9C/v/ALNfMGsaze6/qEt9qFzJdXUpy0khyfoPQewqtPPJdTPNM7SyuSzO5yWJ6kmmV+k4HAUsDC0dZdX/AF0PyPMs0rZjO89IrZf11CiiivTPHCiiigAooooAKKKKACiiigDufEv/ACFP+3e3/wDRKVl1qeJf+Qp/272//olKy6/Eq38SXqz9Be4UUUVkIKKKKACiiigAooooAVWKsCDgjkEV7H8M/jM8LxaX4gm3RH5Yr5uq+gf29/z9a8bopqTjsdFGvOhLmgz7SVg6hlIZSMgjoa5LxMNS8XWJtNFMQsfM2XU00rRCdB1SJ1VjjOQWx7A9ceQfD34jSWscGg6zdyLosjhTID8yLz+7LdQhOM45AyOh4+iYFjSGNYQqwhQECY2hccYx2xXQmpo+qo11ioe7p37nHax4a1nUNPS3gttHhjeyaze3fcywAn5Wjfy8kbcfKQBkVNfeGdWl03T7eGW0Z9Knt5bRpGcecETawk4O0nJxjNdfRV26/wBaO6Oj2UXv6Hn0PgjW9PnGo201jJqUxujcRSu6wgTFSNjBSTt2r1Azz0rRu/A9y3hTT9KttQ8qSxh+Q4Kh5gBtcsOQAckYGQcHtXYUUuVWsv6sCoxTv/XS/wCSMvw3Y3mm6WsN9N50292H75ptiliVXewDNgYGSM1qUUVRpFcqsgooooKCiiigAooooAKKKKACiiigAooooAKKKKACiiigAoorn/HHjC08D+HbjVLr5ivyxQ5wZXPRR/npVwhKpJQgrtmdSpGlB1JuyW5zHxj+KKeA9KFrZur61dKfKXr5S9PMI/l6n6V8pXNzLeXEk88jTTSMXeRzlmY8kk1c8Qa9eeJtYudSv5fNubhtzHsB2UegA4rPr9Oy/AxwNLl+093/AF0Px3NMynmNbm2gtl+vqwooor1DxQooooAKKKKACiiigAooooAKKKKAO58S/wDIU/7d7f8A9EpWXWp4l/5Cn/bvb/8AolKy6/Eq38SXqz9Be4UUUVkIKKKKACiiigAooooAKKKKACvYfg38TmtpIdA1SXMLHbazufuHshPp6flXj1KCVIIOCKcXyu5vRrSoTU4n2lRXnHwd+IP/AAlGmf2beyZ1O0X7zHmWPoG+o6GvR6607q59pSqxrQU47MKKKKZqFFFFABRRRQAUUUUAFFFFABRRRQAUUUUAFFFFABRRRQAUUUUANdxGjMxwqjJNfJHxk+ITeOfErJbuf7KsyY7dR0c/xOfr29h717L+0B44/wCEb8LjS7aTbf6llPlPKRD7x/Hp+J9K+W6+1yLBWTxU15L9X+h+ecS5g3JYOm9N5fov1+4KKKK+wPggooooAKKKKACiiigAooooAKKKKACiiigDufEv/IU/7d7f/wBEpWXWp4l/5Cn/AG72/wD6JSsuvxKt/El6s/QXuFFFFZCCiiigAooooAKKKKACiiigAooooAv6DrVz4d1a21C0bbPA4YejDuD7EcV9Y+G9ftvE2i2upWrZimXJXurd1PuDXx/XqfwL8Zf2VrD6Lcvi1vTmLJ4WUDp+I/UCtKcrOx62X4j2VT2ctn+Z9AUUUV0n1QUUUUAFFFFABRRRQAUUUUAFFFFABRRRQAUUUUAFFFFABTXdY0Z2O1VGST2FOrzz46eKj4Z8B3SRNtub8/ZYyOoBB3H/AL5B/MVvQoyr1Y0o7tnNia8cNRlWntFXPnP4meLm8aeML7UAxa2DeVbj0jXgfnyfxrlqKK/WqdONKCpx2R+G1asq1SVSe7dwooorQyCiiigAooooAKKKKACiiigAooooAKKKKAO58S/8hT/t3t//AESlZdaniX/kKf8Abvb/APolKy6/Eq38SXqz9Be4UUUVkIKKKKACiiigAooooAKKKKACiiigAqS3nktZ45onMcsbB0ZeoIOQajooA+t/BfiJPFXhmx1FcB5ExKo/hccMPzrcrw39n3xJ5N9e6LK3yzL9ohB/vDhh+IwfwNe5V1xd1c+1wtb21JT6hRRRVHWFFFFABRRRQAUUUUAFFFFABRUdxcR2tvJPM4jijUu7N0CgZJryLw74ql8Y+KNXX/hI/slvfWCPa29rdKWt180gKBnAlKgE9xvx2rpo4eVZSktEjmrYiNFxi95PT+vu+89horivh3dXEs2v2dxJeotvdKIrTUZjLcwI0an5n3NkE5Iwxx69hlXWmvD4p1CLS9T1BItM06SSc3WqTPGZ5VIiVt7kAKAzZ7ZWq9gudwb2V/w/4KXUhV24Rklu7fjbTT1fTRHpVFeVaXbaobO60SSW5tdYhgtryaafXJ5Y7mEEh8S4zCSQc7B6ckVv/DzxO2pQrZ3l+1zerEoRDEwDKirufzCuGZtwYjOQGXIBzVVMK4ptO9vy76X/AK+4mnilNxUla/59tbanbV8x/tI+JP7T8YW+lxtmLT4fmH/TR8E/oFr6adhGrMxwqjJNfD3irWDr/iXU9RJLC5uHkXPXaT8o/LFe1kFHnryqv7K/F/0z5vifEezw0aK+0/wX/BsZVFFFffH5iFFFFABRRRQAUUUUAFFFFABRRRQAUUUUAFFFFAHc+Jf+Qp/272//AKJSsutTxL/yFP8At3t//RKVl1+JVv4kvVn6C9wooorIQUUUUAFFFFABRRRQAUUUUAFFFFABRRRQBr+Etabw74k07UAcCGZS/up4YfkTX11G4kRXU5VhkGvi6vqr4Y6wda8D6VOx3SLF5Lknuh2/0ram+h7+VVNZU/mdTRRRW59CFFFFABRRRQAUUUUAFFFFACHng8isfUPB+j6rNcy3djHM9zALaUsWAaMNuAwDgEHnI5962aKqMpRd4uxMoqStJXMWw8HaTpqqLe3kVluBdGRriV3eQLtBZmYluOMMSParNv4f0+2j1BEtlKahI0t0HJfzWZQpzknjAAx0rRoqnUnLdsmNOEbWilb+v1MXSPB2j6HHcpaWY23KCOXz5HmLIAQEy5PygE/L056Uy48H2T38t/ayXGn38hJNxbyZwSACQjhkBIVcnbk7Rmt2in7Wpzc3M7k+xp8vJyqxwXj6bW/DfgzWbs6vBcwpbMv7+02y5YbRh0YLnJ/u18iV9U/tFaj9j+HMsGfmuriOL8Ad5/8AQa+Vq+8yGL+rym1u/wAj8z4lkvrUaaeiXdvf1+QUUUV9IfIhRRRQAUUUUAFFFFABRRRQAUUUUAFFFFABRRRQB3PiX/kKf9u9v/6JSsutTxL/AMhT/t3t/wD0SlZdfiVb+JL1Z+gvcKKKKyEFFFFABRRRQAUUUUAFFFFABRRRQAUUUUAFe9fs86l52g6lYk5ME4kA9mX/ABU14LXq37PN8YvEeo2vaa2D/irD/wCKNXD4j0MBLlxEfM99ooorqPsAooooAKKKKACiiigAooooAKKKKACiiigAooooA8V/ahuNvhzRoP792z/98oR/7NXzjXv/AO1K58nw8vbdMf0SvAK/SslVsFD5/mfkXEEr5jPyt+SCiiivbPnAooooAKKKKACiiigAooooAKKKKACiiigAooooA7nxL/yFP+3e3/8ARKVl10niDQNTm1FXj0+6dDbwYZYmI/1Ke1Zv/CN6t/0Dbv8A78t/hX4lW/iS9Wfo/sar1UX9xm0Vpf8ACN6t/wBA27/78t/hR/wjerf9A27/AO/Lf4VkHsKv8j+5mbRWl/wjerf9A27/AO/Lf4Uf8I3q3/QNu/8Avy3+FAewq/yP7mZtFaX/AAjerf8AQNu/+/Lf4Uf8I3q3/QNu/wDvy3+FAewq/wAj+5mbRWl/wjerf9A27/78t/hR/wAI3q3/AEDbv/vy3+FAewq/yP7mZtFaX/CN6t/0Dbv/AL8t/hR/wjerf9A27/78t/hQHsKv8j+5mbRWl/wjerf9A27/AO/Lf4Uf8I3q3/QNu/8Avy3+FAewq/yP7mZtFaX/AAjerf8AQNu/+/Lf4Uf8I3q3/QNu/wDvy3+FAewq/wAj+5mbXf8AwNuPI8f269pYZEP5Z/pXJf8ACN6t/wBA27/78t/hXXfCfR9QsfH2lyz2VxBEC4LyRlQMo2OSPWnHdHRh6NWNaDcXuuh9J0UUV2H2IUUUUAFFFFABRRRQAUUUUAFFFFABRRRQAUUUUAeEftSx/wCi+Hn/ANuYfolfP1fSP7T9tv8ACukz45jvNn/fSMf/AGUV83V+k5LK+Cj5X/M/IuIY8uYzfe35IKKKK9w+cCiiigAooooAKKKKACiiigAooooAKKKKACtzwToq694itoJV3WseZ7j/AK5ryR+PC/VhWHXp3w90v+zvDst64xPqD7U9RCh/9mf/ANF181xHmiyfK62Lv7yVo/4nov8AP5H0GQ5e80zClh2vdvd+i3/y+Z55+0poBup9O8VIoD3B+xXm0YHmKC0Tfim5fpEK8Or7E8R+Hl8X+G9T0NgN95DiAtxtnX5ojnt8wCn2Y18eyRtDIyOrI6naysMEEdQRX85ZdiXisOpSd5LR/wBen4n92cPYlVcL7B7w0+T2/VfIbRRRXpH1IUUUUAFFFFABRRRQAUUUUAFFFFABRRRQAV6v+y5GZPjh4dI/hMzf+QXryivbv2PbH7Z8ZreTGRbWU836BP8A2eunDq9aC80eNnUuTLcQ3/JL8j7wooor7I/mMKKKKACiiigAooooAKKKKACiiigAooooAKKKKAPNP2hLD7Z8NbqQDJtp4pv/AB7af/Qq+Uq+2vHmlHXPBmtWIXc81pIEH+0FJX9QK+Ja+94fqc2HlDs/zPzLiily4qFTuvyf/BCiiivqD4wKKKKACiiigAooooAKKKKACiiigAooooAs6Xp82rala2UAzNcSLEn1JxXtEyww+Xb23/HrbosEP+6owD9T1PuTXE/C/S9sl9q7rxAv2eA/9NHB3EfRN34sK7Kv518TM29riKWWU3pD3per2+5fmfuPAeW+yw88dNaz0Xot/vf5ChipBBwR0r51+Pnhn+xPHEmowpts9YT7YuBwspOJl+u/LfR1r6JrjfjF4aHif4f3jIm680km/hOOfLwBMv024f8A7ZV+Y5NiPZV/ZPaX59P8vmft2UYr6rjIt7S0fz2/G3yufL1FFFfcH6sFFFFABRRRQAUUUUAFFFFABRRRQAUUUUAFfS37D2kfaPF3iLUiOLazSEH3d8/ySvmmvtX9ifQDY/D7VdVdMNf3xVG9UjUD/wBCLV6GBjzV4+R8hxZX9jlNVdZWX3v/ACTPomiiivqz+eQooooAKKKKACiiigAooooAKKKKACiiigAooooARlDKQRkHgivifx9oR8NeMtX07G1IbhvLH+w3zL/46RX2zXzj+014ba113T9bjX91dxeRIQOjpyM+5U/+O19LkNf2eJdN7SX4r+mfI8TYf2uEVVbwf4PT/I8Vooor9APy0KKKKACiiigAooooAKKKKACiiigAoorpvh5pC6n4ijmmQPa2S/apQ3RtpG1T9WKj6ZrmxWJp4OhPEVXaME2/RHThsPPFV4UKfxSaS+Z6Fp2mf2Do1jpmMSwpvn/67PgsPw+Vf+A1LTpJGlkZ3O52OSx7k02v4hzHG1MyxdXF1fim2/8AgfJaH9YYPCwwWHhhqe0UkFSW8ghmVmRZE6NGwyHU8FT7EZH41HRXBGThJSjujsPk74heFW8GeMNT0nkwRS7rdz/HCw3Rt9dpGffNc7Xv37RHhn7foem+IYVzNYt9iucDrExLRN+Db1J/2lFeA1+n0KyxFKNWPVf8P+J+t5XivrmFhUfxbP1X+e/zCiiitz1QooooAKKKKACiiigAooooAKKKKACv0o+Cvhc+Dfhb4c0t08udLVZZlPaR/nb9WNfBfwb8Ht46+Jeg6Rs3wPcLLPxx5SfM+fqBj8a/SlVCqFUYAGABXvZZT+Kp8j8l46xn8HBp95P8l+otFFFe6fkgUUUUAFFFFABRRRQAUUUUAFFFFABRRRQAUUUUAFcZ8XfCv/CXeBNQtY033UK/aYOMnenOB9RkfjXZ0la0qkqNSNSO6dzGtRjiKUqU9pKx8EUV3Xxm8Gnwd42uliTbY3mbm3IHABPzL+Bzx6EVwtfrVGrGvTjVhsz8NxFGeGqyoz3i7BRRRWxzhRRRQAUUUUAFFFFABRRRQAV6t4J0v+yfC0Tsu241B/Pb1Ea5WMfid7fitec+HtHfXtatLBDs858M/wDcUcs34AE/hXsVzIkkxMSeXCoCRp/dRQAo/AACvyDxIzb6rl8MBTfvVXr/AIV/m7fifp/AuW+3xcsbNaU9F/if+S/Miooor+Zj92CiiigCHUNIt/EWl32j3ZC22oQtbszDIRjyj/8AAXCt/wABr461Cxn0u/ubK6jMNzbytDLG3VXUkMPwINfZdeC/tEeGvsPia116JMW+rR/vSO1xGAr/APfSlG9yzelfX5HiLqWHfTVfr+n4n1vDuK9nXlh5bT1Xqv8ANfkeTUUUV9SfoYUUUUAFFFFABRRRQAUUUUAFFFXtD0a68RaxZaXYxmW7vJlgiT1ZjgfhTWuiFKSinKTskfU37EvgMxwav4uuYsGT/QbRiP4QQ0jD2ztH/ATX1VWB4D8I2vgXwjpWhWgHlWcCxlsY3t1Zj7kkn8a36+yw9L2NJQP5lznHvMsdUxPRvT0Wi/zCiiiug8UKKKKACiiigAooooAKKKKACiiigAooooAKKKKACiiigDz/AONHgX/hNfCUht492pWOZ7fHVuPmT8R+oFfI5yODwa++K+W/jx8O28L682r2ceNM1Byx2jiKU8kfjyR+NfY5FjeVvCzfmv1R8FxLl7kljKa20l+j/T7jyuiiivtD88CiiigAooooAKKKKACiinRRPPKkcal5HYKqjqSegoA9A+GemfZ7G+1Zxh5D9kgz6cGRh+G1f+BGurojsU0eztNNjIK2cYjYjo0nV2/FifwAor+OeLs2/tjN6taLvCPux9F/m7v5n9QcO5d/ZmW06LXvPWXq/wDLb5BRRRXxp9KFFFFABXO/Ejwz/wAJf4E1SwRd13br9utcdfMjBLKP95C4x67a6KnwTPbzRyocOjBgfcV14Wu8NWjVXT8uv4GtOpKjONSG6d/uPimiuy+LfhNPB/jq/tbePy9PuCLuzA6CJ+Qo/wB07k/4Aa42v01NNXWx+y0a0cRSjVhtJXCiiig2CiiigAooooAKKKKACvqX9jP4Wm5vLjxtfw/uod1vp4YdXPDyD6DK/UmvnzwH4NuvHHiKDTreOcwj97dS28DTNDCPvvsUEkgdABySK/QPw74u8FeF9B0/SdI1S2nt7aBUitdPDXM20cZMcYZ8k5zkZzmvVwFFSn7Sey/M+A4uzGpRw31LDpuU97LaP/B/K53NFcude1PxFb3EGlWF7ozlN0ep6nZqYwdwyBCZFkJK7sEgAHGc9D56vxD1y5+F/gDUp9Vms7jWpVW/vbGzSe6A8qR/3MGxtxLKoOEYhcnHcfQSqxjf5fjofjdLAVauzV72t12b6J9npvfoe1UVxngXUNU8afDPS7u51NrPU7uAM1/YpEXGGOG2sroGIA3KQcEkcEccUuqeNZtH8STaRrWq65DHq9vp1lMlrZfaBHHIou5EHlJGeS6DeMDZnNOVTldrP+v+HCngZTlKDnFOLs73723tbu+9k9D2iivHLjxZ4ibQrLUdL1HVLi10+4ni1Y6jBZR3MMqSR/u5lVQpjCeb/qAXYmPBINej+D/EcfibRxdC5sp5w7LNFZTrKLds5ETlWI3qpAb3zgYpxqKWxnXwdShDnbTV2tOlu/8AWzRuUUUVocIUUUUAFFFFABRRRQAUUUUAFFFFABRRRQAVm+ItAs/FGjXWmX8fmW1wm1vUHsw9CDyK0qKqMnFqUXZomUYzi4yV0z4l8beD73wP4guNMvBnad0UwGFljJ4Yf54Oawa+yPiZ8O7T4haC1s+2G/hy9rc4+43of9k9/wA+1fIesaPeaBqVxp9/A1vdQNteNv5j1B9a/S8tzCONp2l8a3/zPyDN8rll9W8dYPZ/o/61KdFFFeweAFFFFABRRRQAV1/wz0v7Rrb6i65i05PNHoZTxGPwOW/4Aa5CvXfC+l/2L4Ys4CNtxc/6XN6/MP3a/guD/wADNfFcYZt/ZGUVasXac/dj6vr8ldn1vC+W/wBpZnTjJe7D3n8tl83Y0KKKK/jw/pgKKKKACiiigAooooA85+Pnhn+2vBkGrRLm50eTEmOpt5CAf++ZNv8A38Y185V9ptbW99BPZ3il7K7ie3nUdfLcFWx7gHI9wK+PvEeh3HhnXtQ0m6H+kWc7wuR0bacbh7Ecj2Ir77KMR7bDKD3jp8un+XyP0DhzFc9KWGlvHVej/wAn+Zm0UUV7R9gFFFFABRRRQAVNZ2c+oXcNrbRPPcTOI44oxlnYnAAHrmogCxAAya+yv2X/ANnxvC8cHi7xFb7dWlTdZWkg5tlI++w7OR+QPqa6cPQliJ8qPEzfNaOUYZ16u/Rd3/W7O8/Z6+DcXwn8JhrpFbX79VkvZOuz+7EPZc/ic16nDbxW4YRRpGGYu2xQMsTkk+5qSivrqdONOKhHZH844vF1cbWniKzvKTu/68ugjDcCK4uH4V6dZ+G/D+k2Wo6lYvoXFjqEMkf2hMqVbduQo2VYg5T6YrtaKpxUtzKnWqUtIO3/AAzX5Nr5nOaD4Jt/DdjDZ2GoX8VtHbyQ+W0isGkkcu05yvMhYsc/d5Py1Avw706Dwfp3h61ub2zh08xvb3kEoFwsiHPmElSrMSSTlSDuORXVUUcqK+sVb83Nre/z7vvu/vOc0TwHpei6X9iPnahuvDqE095JuknuC27zH2gKSCAQAABtXAGBR4N8D2fgi1lgtLm6ulZY4lN0yExxRrtjjXaq8KOMnLHuTXR0UKKWyFLEVZKSlL4twoooqjnCiiigAooooAKKKKACiiigAooooAKKKKACiiigArg/il8K7P4haf5ke211iFf3Fzjhv9h/Vf5fmD3lFbUa06E1UpuzRz16FPE03Sqq8WfCms6Ne+H9SnsNQt3truFtrxuP1HqD61Sr7J+Ifwz0v4hafsuV+z38a4gvY1+dPY/3l9vyxXyn4w8F6p4I1RrLU4Nh6xzLzHKvqp/p1Ffo+X5lTxseV6T7f5H5NmmUVculzLWD2f6P+tTCooor2DwAooooA2fCGijXvEFrayZ+zg+bOw7RqNzfoMD3Ir1i4nNzcSSkYLHO0dB7D2Fcx8OdM+w6Fcag64mvm8mP/rkhBY/i2B/wA10dfzH4j5t9czGOBg/dorX/ABPf7lZfefv/AARlv1XAPFTXvVX/AOSrb9WFFFFfkZ+jBRRRQAUUUUAFFFFABXiv7RvhnbdaZ4khT5bpPsd2wH/LVB+7Y/70eB/2yNe1Vl+LPDY8ZeFdU0QAGe5i32vtcJ80f0ycp9HNezlOI9hiUntLT/L8T0cvxX1PFQrPbZ+j3+7f5HyBRSspViCMEcEGkr78/XwooooAKVVLMFUEknAAqxpum3esX0NlY28l3dzNsjhhUszH0AFfZnwD/Zdt/Bb23iDxQsd5rYAeCz+9FansT/ecfkO3rXVQw88RK0du54WbZxhsope0rO8ntHq/+B5mH+zb+zQdPa18V+Lbb/SRiSx0yVf9X3Ekg/vei9up56fUtFFfVUaMaEeWJ/PmZZliM1ruviH6Lol2QUUUVueUFFFFABRRRQAUUUUAFFFFABRRRQAUUUUAFFFFABRRRQAUUUUAFFFFABRRRQAUUUUAFZniHw3pvirTXsdUtUurdv4W6qfVT1B9xWnRVRk4NSi7NEyjGcXGSumfLXxG+BGqeFGkvNJEmq6X1O1czRD/AGgOo9x+VeWV98V5348+COheM/MuYk/svU25+0W6ja5/206H68H3r6/BZ7a0MV9/+aPg8w4a5m6mCf8A26/0f+f3nyXU9jZS6lewWkC75p5FjRfUk4FdZ4y+EfiPwWXkubM3Vkv/AC92uXTH+13X8Rj3qT4YaZm8u9WcfLap5UP/AF1cEZ/Bdx+uK9zHZpQweBq47mTjBN/5L5vQ+VwmWV8RjaeClFxlJ2+XV/cdzJDFZpDaW5zb2sawRn1C9W/E5b8aZRRX8UYjEVMVWnXqu8pNt+r1P6oo0oUKcaVNWUUkvkFFFFcxqFFFFABRRRQAUUUUAFKrGNgynDKcgjtSUUwPm/46eF18P+O57qCPZZaqv26IAcKzEiRR9HDcdgVrzyvpz40+Gf8AhJPh/PPEm+80d/tkeOphOFmUfgEf6RmvBvBvw98ReP70W2g6VcX7Zw0iLiNP95zwPzr9NwVZ4ujCotW9/Xr/AJn6flOPhUwKnWklyaNt9tn91vnc5yu9+F/wV8S/Fa9VdLtTDp6ttl1K4BEMfqAf4j7D8cV9FfC39jfTdHaG/wDGNwurXS4Yafbki3U+jN1f9B9a+j7HT7bS7OK1s7eO1tolCpDCoVVA7ACvpKGXyl71XRdj5LNuM6NFOll65pfzPZenf8vU4H4S/A3w98JbEGyi+2atIgWfUZwC7eoX+6vsPxzXo1FFe9CEaa5YqyPyHEYmti6rrV5OUn1YUUUVZzBRRRQAUUUUAFFFFABRRRQAUUUUAFFFFABRRRQAUUUUAFFFFABRRRQAUUUUAFFFFABRRRQAUVmx67byarLYbJkljjMpeSMqhUEA4J68nqOKi03xLb6ncxwpBcQ+ahkheZAFlUHBIwT7dcda5liKTaipb6fca+yna9jXorMk1wLqUtlFZ3Nw8W0yPEE2ru6ZywP6VWXxdZeaytHOkQ8wLcMo2SGMZYLznseo5xSeKox3lbf8NH+OnrpuNUZvZG2QGBBGQeorj9a8L+G5Xlt2jGnSFzK8luhRA7AcscbckAdeeK3LLxJaXkbE+ZbuoYmOUDIAUMSdpIxhh371No8LfYzNKu2a5YzOp7Z6L+CgD8Kxr8uLh7BWcZb31Vl3V1rew4xdGXtGrNbHm2ofDG+iXzbCeK+iIyMHax/ofzrmL7R77TWIurSaDHdkOPz6V7g+i2u4vCGtJDyWt2KZ+oHB/EGmNa6hGuFuIbxP7tzHtY/8CXj/AMdr47FcL0J607w9PeX3Oz/M9inmc1pKz/B/5Hg1FeyXmh2N1n7Z4eG49ZLUqf5FW/Ssa58F+HJD/rLywPpIjqB+LL/Wvm63DeIp/BUi/W8X+K/U9GGY05bxf5/keaUV3zfD3SZj/o2vxH2Yox/Q0n/CrA33NYhYf9c//sq4v7BzD7ME/SUf8zb69Q6u3yf+RwVFd1Y/C2W+tkmGooqtnjyiehI9farsXwjXP7zUiR/sxY/rThw/mVRKUaWj84/5ilj8NF2cvwZ5xRXq1v8ACnTIyDLcXE3tkKP5VrWfgXRLPlbFJD6ykv8Azr0qXCmPn8bjH53/ACRzyzShH4bs8Yt7We8fZBDJM392NSx/Suk0z4c6xqGDJGtnGf4pjz+Qr12C2htVCwxJEo4wigCpa+hw3CNCGuIqOXktF+r/ACOCpm05aU42/E43SfhjplmrfbC2oM6MjpIMRsrAhgV7ggkYPrXUabpdno1nHaWFrDZWsYwkMEYRVHsBVqivssLg6GDh7PDwUUeTUxFWt8crhRRRXYc4UUUUAFFFFABRRRQAUUUUAFFFFABRRRQAUUUUAFFFFABRRRQAUUUUAFFFFABRRRQAUUUUAFFFFABRRRQBkNYz/wDCVJeCPNuLMxb8j728HGOvSs/T/wC0vt9zf3mlTG6ZCsK+dFsjQchAd3UnqcfpXT0VwvCLmUlJqzb6bv1XTobqs0rWXY5LWtFur7UGkh0yNLh3heO/WUBotuNwbnOeCPlGDml0/Rb9bmwtprYLa2c80puC6kSBt20Bc5/iOcjtXWUVn9Qpe09rd3vfpbdPt3S13fVmn1mfLyW/q1vy+Ryq6NqOm6sJbKKKKCVgGW3WNY0QP91gRnG3J+XncfTFdVRRXVRoRoJxi3b8vQxqVHUs2FFFFdBkFFFFAEclvFN/rI0f/eUGoG0ixb71lbn6xL/hVuis5U4S+KKZSlJbMZHEkMaxxosaKMBVGAPoKfRRVrTREhRRRTAKKKKACiiigAooooAKKKKACiiigAooooAKKKKACiiigAooooAKKKKACiiigAooooAKKKKACiiigAooooAKKKKACiiigAooooAKKKKACiiigAooooAKKKKACiiigAooooAKKKKACiiigAooooAKKKKACiiigAooooAKKKKACiiigAooooAKKKKACiiigAooooAKKKKACiiigAooooAKKKKACiiigAooooAKKKKACiiigAooooAKKKKACiiigAooooAKKKKACiiigAooooAKKKKACiiigAooooAKKKKACiiigAooooAKKKKACiiigAooooAKKKKACiiigAooooAKKKKACiiigAooooAKKKKACiiigBCQoJPApFZZFypDD1BzXzn8aPFt9qniq70sTPHp9mRGsKthXbAJZh3OTgewrnfAniy98J6/azW8zi3eVVngz8sikgHI9cdDWXtFex48syhGr7Pl02ufWFFFeR/Eb41XXgv4qeGfD1vaW0+jSeUdevJd2+yW5kMFmVIOBumDBtwPyjtWq1ko9XoextFy6I9cory/V/jxY2uoanZad4f1zVhaXE2npqNtBD9klvo4y7WwZ5VIYYI3MFj3Arv3cVyngj9o6S+0Gw1fxHZ3dtd3ehaTeJotnZRl57q8lljTyHFw+4SFBtR9uxcFmyWCkfeV15fje332/LuN+7v/AFZpP8/z6nvdFeSy/tHaOt1a6dD4c8RXWvzPeQyaJDBB9qtpbZInkSQmYRglJkdWDlWB4bJAPonhPxNZeNPC+k6/ppc6fqdrHeQeau19jqGG4djg8ijpcX9fca1Mjmjm3eXIr7Tg7SDivlf9s74mavpN9pnhLT7qSytLi0+23bQsVaYF2RUJHO0bGJHfI9K+Y/C/izVvBesQapo19LYXsLAh42IDD+6w6Mp7g8GvKrY+NKpyct7H6DlvCFbMMEsU6qi5bK1/vd9L+jP1HorF8FeID4s8H6JrRjELahZQ3TRjopdAxA+hNcl4y8ZeJbj4hWngzwl/ZVrfjTG1e81DWIJbiKOLzPKjjWKOSMlnYP8AMXAUIeGzgeonzWt1/wAr/kfBVISpylGejjo/vt+Z6PRXkknx8HhuzWDxT4c1G01XT7OO68QHTPKubTSEd2VZJJPMBZGCM4CK7KnLAUxv2ldHbVjY2/hnxJdq+q3Oh211Bb25hur6HdmFCZgfmCMwdgqYHzMpBAfkv61t+enmzPpd/wBaX/LX0PXqK8ik/aa8Nf2TFfwaVrt2sdrLfalBDax+bpMEUzwyvcgyD7skUo2xl2PlsVBAzVHxZ+0clnqlnB4e0HUdWsF1tdKudUW3RredhC8kkNufNVjKNoUMyhM5GSaV1/Xrb7r6XHZ/16X++3Q9rorjfAnxW0X4jXLRaMtzIi6ZZao00iKEVLoO0cZIYnzAIyWXGAGXk5rU8ba1LoWgTTwHE7sIkb+6T3/IGscTWjhaU6tTaKd/kVTg6slGPX9Td3DcBkZ9KWvniW5lnmM0krvKTkyMxLZ9c16r8NfEFxq+n3FvdOZZLUqBI3JKnOAT3Iwa+VyviOnmOI+runyt3tre9teytoepiculh6ftFK/c7KiuN+L3jLUvAHw/1PXNK09dRvLcxgLIjvHCrSKrzSLGC7JGrF2C8kKenWuP8P8AxuubXRo7jUpNM8bPqF8tlolx4JZGGpsY2kkXypZyIWiCOWLy4wM5B+WvsVrfy/r+v+AzyNrHsVFfO/jb9pTUrGw1O78LaXd6heFNJgg03ULCOH7FNd3U9uxlLXKGRg8RTyxsAYKd5Viy+qfC/wAU3viix1o6hP515p+pyWMq/YltRE6RxlkAE0u4Asfm3d8Y4yWle/l/wP8ANfeKT5Wk+v8Alf8AR/cdpTfMQyFAy7xyVzzXmvx88Y3vhPwjEmnStb3V9N5PnocMiAEttPYngZ9zXyzHeXEN0LmOeSO5DbxMrkOG9c9c19BgcoljKXtXPlXTS58vmWfQy+t7BQ5n11t+jPvKiuI+Dfiy68YeBbS8vm8y8idreWX/AJ6FcYb64Iz75pPih401TwvH4f03Qbe1n17xBqI060kvgxt4MRSTSSyKpDMFSJ/lBGSQMjrXh1qUqNR0pbp2PoqFaOIpRrR2av8Ahc7iivALz49eLvD3iCHwxf8AhyDWdbtfENrpd7d6OEjtpraeEyxPGk1wrRyMAw2lnUeW+TyubHgz9qKyk0f7R4y0260RTLq3larHABYzpZTShkT960nmCJAxyoViGCntWWjV/wCtk/yaOizul/Wra/Rnu9FeQXH7S2j2d9aaZceF/E0GvXV3Fax6M1rAboiWGSaKXiYp5bLDIM7sqVIYLg49fp2ZN0FFFFIYUUUUAFFFFABRRRQAUUUUAFFFFABRRRQAUUUUAFFFFABRRRQB4j8WvhXqeoa5LrOkQG8jucGaBCN6MABkA9QcDpznNYngP4P6zqGtW0+qWj6fYQOsj+dgPJg52hevPqa+iaKz5Fe55ksvpSq+0frYK8W8Yfsw6V47uvG9/q+u6qdT8RMnkS2d5cW0NmkUarbq0CTCOfy3Bky45LHgV7TRV+f9f157nqJtHlfhn4P674cvpoh40eTQLq6m1G70+LTlSWa6mQib98ZG2wtIzSiMJuBON5HFc5pP7Mt3p+k2UMni1X1LTdP0uy029g0zyxC9hNK8EjoZW8zcsoR1yucMQV3AL7vRVX7eX4bfd0F0afX9d/v69zyLQPgLNpvjay8W3/iIahrXmX89+yWXlRXElzDBCojXzG8pI0t0AUlycklq7r4c+EP+Ff8AgLw/4a+1/b/7JsYbL7V5fl+bsQLu25O3OOmT9a6Oil/w33f8OM+ff2pfgVqnxKGn694fjW51WyhNvNaM4UzRZLLsJ43As3BPO72wfnnwr+zL4/8AEusRWk+iTaPbbgJry+ARI1zyQM5Y+w/TrX6EUV59XA0qs+dn2WA4qx2X4VYSmotLZu91+OvkZ/h7Rbfw1oOm6RaZ+zWNtHbRbuu1FCgn3wK5Lxn8OdT1bxdZeKvDWvxeH9ehsn02Z7uw+229xbM4cK0YkjIZXGVYPjkghgeO9orvsla3T/hj46UnNty1b3/P8zxG9/Zxv5rO/sIfHN/JZa7p8Wn+IX1G3+1XV+qF8vFKXHkMyyOh+V1C7QoG3Naul/AVNLm0po9aymn+LLvxQqfZMbhMkyi3zv42+d9/nO37ozx6zRVLR3X9ap/ml/wxO65Xt/wGvyf9M+fLz9kfT57xL4X2jX185vI531zw7DqKCKa9mulMKSPiKVDO67zuVgAWToBvf8KHv9N1uCax8RqPDdnr58SRaGumqZjcFG8yJZ/NVRGzMzAbBtLdSOB7LRSWm39a3/NXHL3r83X/ACt+TseWfs9/DJ/hv4X1ZrmxbTL7WdVuNSexknWZrSJmxBb71JX5I1UYUlQSQCRzXfeJtDXxDo81mW8t2wyP6MOn+H41q0VlWpQr03SqK8WrW8rWHCUoS54vW9/1PEpvA2uQ3Bh/s+RznAZCCp985r0nwP4Xbw1p0gmYNdTkNJt5C46L74yfzrpKK+ey/h/C5dW9vBtvpfp+B6GIx9XEQ5JWSMHxt4dvPFGgyWWn61d+H79ZY54L+z5KOjhgHXIDxtjayEjcpIyOteYw/s96nFrlz4qHiq0h8bSalHqKXtro/l6eNtu9uyNa+eWfekj7m80MSFIIC4r2yivpv6/L/JHm7/1/Xc8Yvv2e73V57m61LxfLqF/dNo0k91NYqGd7G8luSQFcAK/m7AP4Ao5evQfBPg3/AIQ+TxC32z7X/a+rTap/qtnleYqDy+p3Y2fe4znpXTUU77vvf8bf/Ir7hNX1fl+F0vzZxHxc8Av8QPC/2W2dY7+3k8+3L8KxwQUJ7ZB6+oFfOMPwb8ZTXwtf7CuEfdtMjlRGPffnGPoa+xaK9nB5rXwdN04JNefQ8DH5Jh8wqqtNtPrbqcx8OfBo8CeE7TSjKJp1JknkXo0jcnHsOAPpUHxG8BN44s9KktNSbR9a0e+XUdOv/JEyxShGQh4yRvRkkdSu5ThuCCM111FeTUqSqzdSb1bv8z26VONGmqUFolb5bHkDfAnUJlfU5/E8c/i6bXLbW59UfTcWzGCMxRwLbiXKxiMsB+8J3EsSelZWp/ss2Wu+E9G8PajrsktjY3GsTStDahHmF+ZjhSXIUx+d1IYNt6DNe6UVk0nFx6f8BL8kja7un/XX/NniPhP9muLw3rXh/UxeaDaz6TqK3rR6D4Zh0xLlVtp4AsmyQkv+/LFiSOMKi5Jr26iircm9ybJBRRRUjCiiigAooooAKKKKACiiigAooooAKKKKACiiigAooooAKKKKACiiigAooooAKKKKACiiigAooooAKKKKACiiigAooooAKKKKACiiigAooooAKKKKACiiigAooooAKKKKACiiigAooooAKKKKACiiigAooooAKKKKACiiigD/2Q==\"/><clipPath id=\"clip4\"><path clip-rule=\"evenodd\" d=\"M0 0 270 0 270 249.951 0 249.951Z\" fill-rule=\"evenodd\"/></clipPath><image height=\"457\" id=\"img5\" preserveAspectRatio=\"none\" width=\"444\" xlink:href=\"data:image/jpeg;base64,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\"/><clipPath id=\"clip6\"><path clip-rule=\"evenodd\" d=\"M0 0 296 0 296 304.667 0 304.667Z\" fill-rule=\"evenodd\"/></clipPath><image height=\"457\" id=\"img7\" preserveAspectRatio=\"none\" width=\"465\" xlink:href=\"data:image/jpeg;base64,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\"/><clipPath id=\"clip8\"><path clip-rule=\"evenodd\" d=\"M0 0 310 0 310 304.667 0 304.667Z\" fill-rule=\"evenodd\"/></clipPath></defs><g clip-path=\"url(#clip0)\"><rect fill=\"#FFFFFF\" height=\"720\" width=\"1280\" x=\"0\" y=\"0\"/><g clip-path=\"url(#clip2)\" transform=\"matrix(1.00267 0 -0 1 53 274)\"><use height=\"100%\" transform=\"scale(0.664894 0.664894)\" width=\"100%\" xlink:href=\"#img1\"/></g><path d=\"M53 433.5 1056 433.5 1056 405 1113 462.001 1056 519 1056 490.5 53 490.5 81.4997 462.001Z\" fill=\"#CFD5EA\" fill-rule=\"evenodd\"/><g clip-path=\"url(#clip4)\" transform=\"matrix(1 0 -0 1.0002 235 132)\"><use height=\"100%\" transform=\"scale(0.668317 0.668317)\" width=\"100%\" xlink:href=\"#img3\"/></g><g clip-path=\"url(#clip6)\" transform=\"matrix(1 0 -0 1.00109 543 82)\"><use height=\"100%\" transform=\"scale(0.666667 0.666667)\" width=\"100%\" xlink:href=\"#img5\"/></g><g clip-path=\"url(#clip8)\" transform=\"matrix(1 0 -0 1.00109 846 82)\"><use height=\"100%\" transform=\"scale(0.666667 0.666667)\" width=\"100%\" xlink:href=\"#img7\"/></g><text font-family=\"Calibri,Calibri_MSFontService,sans-serif\" font-size=\"24\" font-weight=\"400\" transform=\"translate(110.653 472)\">1980s<tspan x=\"215.074\" y=\"0\">1990s</tspan><tspan x=\"542.948\" y=\"0\">2000s</tspan><tspan x=\"860.592\" y=\"0\">2010s</tspan><tspan x=\"-47.7901\" y=\"-414\">Arnold Emerges in Documentaries:</tspan><tspan font-size=\"19\" x=\"-47.7901\" y=\"-390\">Proportion of Movie Genres By Decade</tspan></text></g></svg>"
      ],
      "text/plain": [
       "<IPython.core.display.SVG object>"
      ]
     },
     "execution_count": 488,
     "metadata": {},
     "output_type": "execute_result"
    }
   ],
   "source": [
    "SVG(filename='dsc106_hw4.svg')"
   ]
  },
  {
   "cell_type": "markdown",
   "metadata": {},
   "source": [
    "My inspiration from this chart came from wanted to express how not only the number of movies Arnold appeared in grew over time but also how the types of movies he appeared in changed. The sizes of the pie charts in the timeline are proportional to the number of movie he filmed in the corresponding decade. 1980s (14), 1990s (32), 2000s (37), and 2010s (38). I chose to only include the top 3 genres because I wanted to keep in mind Miller's Law (7 +/- 2 will keep my view interested).  "
   ]
  },
  {
   "cell_type": "markdown",
   "metadata": {},
   "source": [
    "**-------------------------------------------------------------------------------------------------------------------------------------------------------------------------------------------------------------**"
   ]
  },
  {
   "cell_type": "code",
   "execution_count": 335,
   "metadata": {},
   "outputs": [],
   "source": [
    "# word cloud word\n",
    "di = {}\n",
    "gen = list(genre_stats.index)\n",
    "for g in gen:\n",
    "    di[g] = [0, 0]\n",
    "    \n",
    "for i in range(df1.shape[0]):\n",
    "    row = df1.iloc[i]\n",
    "    for g in row.clean_genres:\n",
    "        if len(g) == 0: pass\n",
    "        \n",
    "        else:\n",
    "            if np.isnan(row.rating): pass\n",
    "            else:\n",
    "                di[g][0] += row.rating\n",
    "                di[g][1] += 1\n",
    "for g in gen:\n",
    "    di[g] = di[g][0] / di[g][1]"
   ]
  },
  {
   "cell_type": "code",
   "execution_count": 338,
   "metadata": {},
   "outputs": [
    {
     "data": {
      "text/plain": [
       "{'documentary': 6.798695652173912,\n",
       " 'comedy': 6.564661654135339,\n",
       " 'talk-show': 5.838938053097347,\n",
       " 'news': 5.222680412371133,\n",
       " 'short': 6.685507246376812,\n",
       " 'action': 6.388059701492535,\n",
       " 'music': 6.735416666666666,\n",
       " 'biography': 6.8315789473684205,\n",
       " 'sport': 7.365714285714285,\n",
       " 'thriller': 6.19090909090909,\n",
       " 'drama': 6.2,\n",
       " 'family': 5.95925925925926,\n",
       " 'sci-fi': 6.592000000000001,\n",
       " 'adventure': 6.1000000000000005,\n",
       " 'history': 7.482352941176471,\n",
       " 'crime': 6.474999999999999,\n",
       " 'reality-tv': 5.875,\n",
       " 'fantasy': 6.007142857142858,\n",
       " 'game-show': 6.269230769230769,\n",
       " 'romance': 5.789999999999999,\n",
       " 'horror': 6.6428571428571415,\n",
       " 'mystery': 6.983333333333333,\n",
       " 'western': 5.824999999999999,\n",
       " 'animation': 7.539999999999999,\n",
       " 'war': 5.833333333333333,\n",
       " 'musical': 4.1}"
      ]
     },
     "execution_count": 338,
     "metadata": {},
     "output_type": "execute_result"
    }
   ],
   "source": [
    "# helped color code the word cloud\n",
    "avg_rating = di\n",
    "avg_rating"
   ]
  },
  {
   "cell_type": "markdown",
   "metadata": {},
   "source": [
    "# Genre Cloud"
   ]
  },
  {
   "cell_type": "code",
   "execution_count": 487,
   "metadata": {},
   "outputs": [
    {
     "data": {
      "image/svg+xml": [
       "<svg height=\"768px\" version=\"1.1\" viewBox=\"0 0 1024 768\" width=\"1024px\" xmlns=\"http://www.w3.org/2000/svg\">\n",
       "<clipPath id=\"cp1\">\n",
       "<path d=\"M 0,0 L 1024,0 L1024,768 L 0,768 z M 0,0 L 1280,0 L 1280,960 L 0,960 z\" fill-rule=\"evenodd\">\n",
       "</path>\n",
       "</clipPath>\n",
       "<g clip-path=\"url(#cp1)\">\n",
       "</g>\n",
       "<rect fill=\"rgb(255,255,255)\" fill-opacity=\"1\" height=\"960\" opacity=\"1\" stroke=\"none\" width=\"1280\" x=\"0\" y=\"0\">\n",
       "</rect>\n",
       "<text dy=\"49.564762434782615\" fill=\"#bcff20\" opacity=\"1\" stroke=\"none\" style=\"font: normal 125.39884896000001px Arial,Helvetica,sans-serif\" text-anchor=\"start\" transform=\"translate(510, 384) rotate(-9720)\" x=\"-362.4248352050781\" y=\"12.539884895999997\">documentary</text>\n",
       "<text dy=\"45.05887494071147\" fill=\"#bcff20\" opacity=\"1\" stroke=\"none\" style=\"font: normal 113.99895360000001px Arial,Helvetica,sans-serif\" text-anchor=\"start\" transform=\"translate(504, 450) rotate(-6479.999999999999)\" x=\"-199.56597900390625\" y=\"11.399895359999995\">comedy</text>\n",
       "<text dy=\"40.55298744664032\" fill=\"#ffc116\" opacity=\"1\" stroke=\"none\" style=\"font: normal 102.59905824px Arial,Helvetica,sans-serif\" text-anchor=\"start\" transform=\"translate(466, 324) rotate(-2160)\" x=\"-216.65121459960938\" y=\"10.259905824\">talk-show</text>\n",
       "<text dy=\"40.55298744664032\" fill=\"#ff8a15\" opacity=\"1\" stroke=\"none\" style=\"font: normal 102.59905824px Arial,Helvetica,sans-serif\" text-anchor=\"start\" transform=\"translate(506, 264) rotate(-5040)\" x=\"-119.74676513671875\" y=\"10.259905824\">news</text>\n",
       "<text dy=\"36.04709995256918\" fill=\"#bcff20\" opacity=\"1\" stroke=\"none\" style=\"font: normal 91.19916288px Arial,Helvetica,sans-serif\" text-anchor=\"start\" transform=\"translate(496, 512) rotate(-17280)\" x=\"-101.36426544189453\" y=\"9.119916287999999\">short</text>\n",
       "<text dy=\"31.541212458498027\" fill=\"#f8ff27\" opacity=\"1\" stroke=\"none\" style=\"font: normal 79.79926752px Arial,Helvetica,sans-serif\" text-anchor=\"start\" transform=\"translate(486, 214) rotate(-4320)\" x=\"-106.45808410644531\" y=\"7.979926751999997\">action</text>\n",
       "<text dy=\"31.541212458498027\" fill=\"#bcff20\" opacity=\"1\" stroke=\"none\" style=\"font: normal 79.79926752px Arial,Helvetica,sans-serif\" text-anchor=\"start\" transform=\"translate(514, 562) rotate(-7200)\" x=\"-104.17891693115234\" y=\"7.979926751999997\">music</text>\n",
       "<text dy=\"27.03532496442688\" fill=\"#bcff20\" opacity=\"1\" stroke=\"none\" style=\"font: normal 68.39937216px Arial,Helvetica,sans-serif\" text-anchor=\"start\" transform=\"translate(490, 158) rotate(-14759.999999999998)\" x=\"-150.18746948242188\" y=\"6.839937215999999\">biography</text>\n",
       "<text dy=\"27.03532496442688\" fill=\"#13ff13\" opacity=\"1\" stroke=\"none\" style=\"font: normal 68.39937216px Arial,Helvetica,sans-serif\" text-anchor=\"start\" transform=\"translate(700, 270) rotate(-14400)\" x=\"-76.0204086303711\" y=\"6.839937215999999\">sport</text>\n",
       "<text dy=\"22.529437470355735\" fill=\"#f8ff27\" opacity=\"1\" stroke=\"none\" style=\"font: normal 56.999476800000004px Arial,Helvetica,sans-serif\" text-anchor=\"start\" transform=\"translate(666, 220) rotate(-15120.000000000002)\" x=\"-77.5820541381836\" y=\"5.6999476799999975\">thriller</text>\n",
       "<text dy=\"22.529437470355735\" fill=\"#ffc116\" opacity=\"1\" stroke=\"none\" style=\"font: normal 56.999476800000004px Arial,Helvetica,sans-serif\" text-anchor=\"start\" transform=\"translate(686, 532) rotate(-12240.000000000002)\" x=\"-74.40977478027344\" y=\"5.6999476799999975\">family</text>\n",
       "<text dy=\"18.02354997628459\" fill=\"#f8ff27\" opacity=\"1\" stroke=\"none\" style=\"font: normal 45.59958144px Arial,Helvetica,sans-serif\" text-anchor=\"start\" transform=\"translate(330, 504) rotate(-7919.999999999999)\" x=\"-64.6117935180664\" y=\"4.559958143999999\">drama</text>\n",
       "<text dy=\"18.02354997628459\" fill=\"#bcff20\" opacity=\"1\" stroke=\"none\" style=\"font: normal 45.59958144px Arial,Helvetica,sans-serif\" text-anchor=\"start\" transform=\"translate(344, 268) rotate(-17639.999999999996)\" x=\"-46.84771728515625\" y=\"4.559958143999999\">sci-fi</text>\n",
       "<text dy=\"18.02354997628459\" fill=\"#f8ff27\" opacity=\"1\" stroke=\"none\" style=\"font: normal 45.59958144px Arial,Helvetica,sans-serif\" text-anchor=\"start\" transform=\"translate(538, 608) rotate(-360)\" x=\"-101.38652801513672\" y=\"4.559958143999999\">adventure</text>\n",
       "<text dy=\"13.51766248221344\" fill=\"#13ff13\" opacity=\"1\" stroke=\"none\" style=\"font: normal 34.19968608px Arial,Helvetica,sans-serif\" text-anchor=\"start\" transform=\"translate(342, 536) rotate(-10440)\" x=\"-50.35009002685547\" y=\"3.4199686079999996\">history</text>\n",
       "<text dy=\"13.51766248221344\" fill=\"#f8ff27\" opacity=\"1\" stroke=\"none\" style=\"font: normal 34.19968608px Arial,Helvetica,sans-serif\" text-anchor=\"start\" transform=\"translate(722, 326) rotate(-6479.999999999999)\" x=\"-41.78590393066406\" y=\"3.4199686079999996\">crime</text>\n",
       "<text dy=\"13.51766248221344\" fill=\"#ffc116\" opacity=\"1\" stroke=\"none\" style=\"font: normal 34.19968608px Arial,Helvetica,sans-serif\" text-anchor=\"start\" transform=\"translate(314, 238) rotate(-1080)\" x=\"-64.59034729003906\" y=\"3.4199686079999996\">reality-tv</text>\n",
       "<text dy=\"13.51766248221344\" fill=\"#ffc116\" opacity=\"1\" stroke=\"none\" style=\"font: normal 34.19968608px Arial,Helvetica,sans-serif\" text-anchor=\"start\" transform=\"translate(356, 566) rotate(-12240.000000000002)\" x=\"-55.11632537841797\" y=\"3.4199686079999996\">fantasy</text>\n",
       "<text dy=\"9.011774988142294\" fill=\"#f8ff27\" opacity=\"1\" stroke=\"none\" style=\"font: normal 22.79979072px Arial,Helvetica,sans-serif\" text-anchor=\"start\" transform=\"translate(748, 346) rotate(-16560)\" x=\"-58.90007781982422\" y=\"2.2799790719999997\">game-show</text>\n",
       "<text dy=\"9.011774988142294\" fill=\"#ffc116\" opacity=\"1\" stroke=\"none\" style=\"font: normal 22.79979072px Arial,Helvetica,sans-serif\" text-anchor=\"start\" transform=\"translate(670, 562) rotate(-10080)\" x=\"-44.33362579345703\" y=\"2.2799790719999997\">romance</text>\n",
       "<text dy=\"9.011774988142294\" fill=\"#bcff20\" opacity=\"1\" stroke=\"none\" style=\"font: normal 22.79979072px Arial,Helvetica,sans-serif\" text-anchor=\"start\" transform=\"translate(308, 298) rotate(-7200)\" x=\"-30.395896911621094\" y=\"2.2799790719999997\">horror</text>\n",
       "<text dy=\"9.011774988142294\" fill=\"#bcff20\" opacity=\"1\" stroke=\"none\" style=\"font: normal 22.79979072px Arial,Helvetica,sans-serif\" text-anchor=\"start\" transform=\"translate(742, 450) rotate(-11160)\" x=\"-39.88246154785156\" y=\"2.2799790719999997\">mystery</text>\n",
       "<text dy=\"9.011774988142294\" fill=\"#ffc116\" opacity=\"1\" stroke=\"none\" style=\"font: normal 22.79979072px Arial,Helvetica,sans-serif\" text-anchor=\"start\" transform=\"translate(734, 470) rotate(-6479.999999999999)\" x=\"-39.89915466308594\" y=\"2.2799790719999997\">western</text>\n",
       "<text dy=\"9.011774988142294\" fill=\"#13ff13\" opacity=\"1\" stroke=\"none\" style=\"font: normal 22.79979072px Arial,Helvetica,sans-serif\" text-anchor=\"start\" transform=\"translate(736, 490) rotate(-8280)\" x=\"-49.407958984375\" y=\"2.2799790719999997\">animation</text>\n",
       "<text dy=\"9.011774988142294\" fill=\"#ffc116\" opacity=\"1\" stroke=\"none\" style=\"font: normal 22.79979072px Arial,Helvetica,sans-serif\" text-anchor=\"start\" transform=\"translate(428, 322) rotate(-8280)\" x=\"-18.361068725585938\" y=\"2.2799790719999997\">war</text>\n",
       "<text dy=\"4.505887494071147\" fill=\"#ff0000\" opacity=\"1\" stroke=\"none\" style=\"font: normal 11.39989536px Arial,Helvetica,sans-serif\" text-anchor=\"start\" transform=\"translate(430, 308) rotate(-720)\" x=\"-19.30401611328125\" y=\"1.1399895359999999\">musical</text>\n",
       "</svg>"
      ],
      "text/plain": [
       "<IPython.core.display.SVG object>"
      ]
     },
     "execution_count": 487,
     "metadata": {},
     "output_type": "execute_result"
    }
   ],
   "source": [
    "from IPython.core.display import SVG\n",
    "SVG(filename='wordcloud.svg')"
   ]
  },
  {
   "cell_type": "markdown",
   "metadata": {},
   "source": [
    "<img src=\"wc_legend.png\">"
   ]
  },
  {
   "cell_type": "markdown",
   "metadata": {},
   "source": [
    "My inspiration for this visual was finding a way to show which genres were the most popular while adding another dimension to the data. I decided to go with average rating per/ genre. This shows us not only which genres has the most movies made but also how popular the genre was. I broke up the color scale by using the min and max rating as a reference point and making the step betweenn each color even."
   ]
  },
  {
   "cell_type": "code",
   "execution_count": null,
   "metadata": {},
   "outputs": [],
   "source": [
    "# see js file in repo for third vis"
   ]
  },
  {
   "cell_type": "markdown",
   "metadata": {},
   "source": [
    "My inspiration for Tree Map came from wanting to use the box office data in some way. I would like to explore the concept of \"drilling\" more in the final project but I thought the tree map was a cool way to represent the proportions of money from the box office that went to each genre and also how it changed over the decades. "
   ]
  },
  {
   "cell_type": "code",
   "execution_count": null,
   "metadata": {},
   "outputs": [],
   "source": []
  }
 ],
 "metadata": {
  "kernelspec": {
   "display_name": "Python 3",
   "language": "python",
   "name": "python3"
  },
  "language_info": {
   "codemirror_mode": {
    "name": "ipython",
    "version": 3
   },
   "file_extension": ".py",
   "mimetype": "text/x-python",
   "name": "python",
   "nbconvert_exporter": "python",
   "pygments_lexer": "ipython3",
   "version": "3.7.3"
  }
 },
 "nbformat": 4,
 "nbformat_minor": 2
}
